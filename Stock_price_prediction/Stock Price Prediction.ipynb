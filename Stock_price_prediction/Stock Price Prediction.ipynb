{
 "cells": [
  {
   "cell_type": "code",
   "execution_count": 1,
   "id": "0b736017",
   "metadata": {},
   "outputs": [],
   "source": [
    "import pandas as pd\n",
    "data = pd.read_csv('apple_stock_data.csv')"
   ]
  },
  {
   "cell_type": "code",
   "execution_count": 2,
   "id": "1c7d163f",
   "metadata": {},
   "outputs": [
    {
     "data": {
      "text/html": [
       "<div>\n",
       "<style scoped>\n",
       "    .dataframe tbody tr th:only-of-type {\n",
       "        vertical-align: middle;\n",
       "    }\n",
       "\n",
       "    .dataframe tbody tr th {\n",
       "        vertical-align: top;\n",
       "    }\n",
       "\n",
       "    .dataframe thead th {\n",
       "        text-align: right;\n",
       "    }\n",
       "</style>\n",
       "<table border=\"1\" class=\"dataframe\">\n",
       "  <thead>\n",
       "    <tr style=\"text-align: right;\">\n",
       "      <th></th>\n",
       "      <th>Date</th>\n",
       "      <th>Adj Close</th>\n",
       "      <th>Close</th>\n",
       "      <th>High</th>\n",
       "      <th>Low</th>\n",
       "      <th>Open</th>\n",
       "      <th>Volume</th>\n",
       "    </tr>\n",
       "  </thead>\n",
       "  <tbody>\n",
       "    <tr>\n",
       "      <th>0</th>\n",
       "      <td>2023-11-02 00:00:00+00:00</td>\n",
       "      <td>176.665985</td>\n",
       "      <td>177.570007</td>\n",
       "      <td>177.779999</td>\n",
       "      <td>175.460007</td>\n",
       "      <td>175.520004</td>\n",
       "      <td>77334800</td>\n",
       "    </tr>\n",
       "    <tr>\n",
       "      <th>1</th>\n",
       "      <td>2023-11-03 00:00:00+00:00</td>\n",
       "      <td>175.750671</td>\n",
       "      <td>176.649994</td>\n",
       "      <td>176.820007</td>\n",
       "      <td>173.350006</td>\n",
       "      <td>174.240005</td>\n",
       "      <td>79763700</td>\n",
       "    </tr>\n",
       "    <tr>\n",
       "      <th>2</th>\n",
       "      <td>2023-11-06 00:00:00+00:00</td>\n",
       "      <td>178.317520</td>\n",
       "      <td>179.229996</td>\n",
       "      <td>179.429993</td>\n",
       "      <td>176.210007</td>\n",
       "      <td>176.380005</td>\n",
       "      <td>63841300</td>\n",
       "    </tr>\n",
       "    <tr>\n",
       "      <th>3</th>\n",
       "      <td>2023-11-07 00:00:00+00:00</td>\n",
       "      <td>180.894333</td>\n",
       "      <td>181.820007</td>\n",
       "      <td>182.440002</td>\n",
       "      <td>178.970001</td>\n",
       "      <td>179.179993</td>\n",
       "      <td>70530000</td>\n",
       "    </tr>\n",
       "    <tr>\n",
       "      <th>4</th>\n",
       "      <td>2023-11-08 00:00:00+00:00</td>\n",
       "      <td>181.958893</td>\n",
       "      <td>182.889999</td>\n",
       "      <td>183.449997</td>\n",
       "      <td>181.589996</td>\n",
       "      <td>182.350006</td>\n",
       "      <td>49340300</td>\n",
       "    </tr>\n",
       "    <tr>\n",
       "      <th>...</th>\n",
       "      <td>...</td>\n",
       "      <td>...</td>\n",
       "      <td>...</td>\n",
       "      <td>...</td>\n",
       "      <td>...</td>\n",
       "      <td>...</td>\n",
       "      <td>...</td>\n",
       "    </tr>\n",
       "    <tr>\n",
       "      <th>247</th>\n",
       "      <td>2024-10-28 00:00:00+00:00</td>\n",
       "      <td>233.399994</td>\n",
       "      <td>233.399994</td>\n",
       "      <td>234.729996</td>\n",
       "      <td>232.550003</td>\n",
       "      <td>233.320007</td>\n",
       "      <td>36087100</td>\n",
       "    </tr>\n",
       "    <tr>\n",
       "      <th>248</th>\n",
       "      <td>2024-10-29 00:00:00+00:00</td>\n",
       "      <td>233.669998</td>\n",
       "      <td>233.669998</td>\n",
       "      <td>234.330002</td>\n",
       "      <td>232.320007</td>\n",
       "      <td>233.100006</td>\n",
       "      <td>35417200</td>\n",
       "    </tr>\n",
       "    <tr>\n",
       "      <th>249</th>\n",
       "      <td>2024-10-30 00:00:00+00:00</td>\n",
       "      <td>230.100006</td>\n",
       "      <td>230.100006</td>\n",
       "      <td>233.470001</td>\n",
       "      <td>229.550003</td>\n",
       "      <td>232.610001</td>\n",
       "      <td>47070900</td>\n",
       "    </tr>\n",
       "    <tr>\n",
       "      <th>250</th>\n",
       "      <td>2024-10-31 00:00:00+00:00</td>\n",
       "      <td>225.910004</td>\n",
       "      <td>225.910004</td>\n",
       "      <td>229.830002</td>\n",
       "      <td>225.369995</td>\n",
       "      <td>229.339996</td>\n",
       "      <td>64370100</td>\n",
       "    </tr>\n",
       "    <tr>\n",
       "      <th>251</th>\n",
       "      <td>2024-11-01 00:00:00+00:00</td>\n",
       "      <td>222.910004</td>\n",
       "      <td>222.910004</td>\n",
       "      <td>225.350006</td>\n",
       "      <td>220.270004</td>\n",
       "      <td>220.970001</td>\n",
       "      <td>65242200</td>\n",
       "    </tr>\n",
       "  </tbody>\n",
       "</table>\n",
       "<p>252 rows × 7 columns</p>\n",
       "</div>"
      ],
      "text/plain": [
       "                          Date   Adj Close       Close        High  \\\n",
       "0    2023-11-02 00:00:00+00:00  176.665985  177.570007  177.779999   \n",
       "1    2023-11-03 00:00:00+00:00  175.750671  176.649994  176.820007   \n",
       "2    2023-11-06 00:00:00+00:00  178.317520  179.229996  179.429993   \n",
       "3    2023-11-07 00:00:00+00:00  180.894333  181.820007  182.440002   \n",
       "4    2023-11-08 00:00:00+00:00  181.958893  182.889999  183.449997   \n",
       "..                         ...         ...         ...         ...   \n",
       "247  2024-10-28 00:00:00+00:00  233.399994  233.399994  234.729996   \n",
       "248  2024-10-29 00:00:00+00:00  233.669998  233.669998  234.330002   \n",
       "249  2024-10-30 00:00:00+00:00  230.100006  230.100006  233.470001   \n",
       "250  2024-10-31 00:00:00+00:00  225.910004  225.910004  229.830002   \n",
       "251  2024-11-01 00:00:00+00:00  222.910004  222.910004  225.350006   \n",
       "\n",
       "            Low        Open    Volume  \n",
       "0    175.460007  175.520004  77334800  \n",
       "1    173.350006  174.240005  79763700  \n",
       "2    176.210007  176.380005  63841300  \n",
       "3    178.970001  179.179993  70530000  \n",
       "4    181.589996  182.350006  49340300  \n",
       "..          ...         ...       ...  \n",
       "247  232.550003  233.320007  36087100  \n",
       "248  232.320007  233.100006  35417200  \n",
       "249  229.550003  232.610001  47070900  \n",
       "250  225.369995  229.339996  64370100  \n",
       "251  220.270004  220.970001  65242200  \n",
       "\n",
       "[252 rows x 7 columns]"
      ]
     },
     "execution_count": 2,
     "metadata": {},
     "output_type": "execute_result"
    }
   ],
   "source": [
    "data"
   ]
  },
  {
   "cell_type": "code",
   "execution_count": 3,
   "id": "1360adb4",
   "metadata": {},
   "outputs": [],
   "source": [
    "data['Date'] = pd.to_datetime(data['Date'])\n",
    "data.set_index('Date', inplace=True)\n",
    "data=data[['Close']]"
   ]
  },
  {
   "cell_type": "code",
   "execution_count": 4,
   "id": "2ec1cdaf",
   "metadata": {},
   "outputs": [
    {
     "data": {
      "text/html": [
       "<div>\n",
       "<style scoped>\n",
       "    .dataframe tbody tr th:only-of-type {\n",
       "        vertical-align: middle;\n",
       "    }\n",
       "\n",
       "    .dataframe tbody tr th {\n",
       "        vertical-align: top;\n",
       "    }\n",
       "\n",
       "    .dataframe thead th {\n",
       "        text-align: right;\n",
       "    }\n",
       "</style>\n",
       "<table border=\"1\" class=\"dataframe\">\n",
       "  <thead>\n",
       "    <tr style=\"text-align: right;\">\n",
       "      <th></th>\n",
       "      <th>Close</th>\n",
       "    </tr>\n",
       "    <tr>\n",
       "      <th>Date</th>\n",
       "      <th></th>\n",
       "    </tr>\n",
       "  </thead>\n",
       "  <tbody>\n",
       "    <tr>\n",
       "      <th>2023-11-02 00:00:00+00:00</th>\n",
       "      <td>177.570007</td>\n",
       "    </tr>\n",
       "    <tr>\n",
       "      <th>2023-11-03 00:00:00+00:00</th>\n",
       "      <td>176.649994</td>\n",
       "    </tr>\n",
       "    <tr>\n",
       "      <th>2023-11-06 00:00:00+00:00</th>\n",
       "      <td>179.229996</td>\n",
       "    </tr>\n",
       "    <tr>\n",
       "      <th>2023-11-07 00:00:00+00:00</th>\n",
       "      <td>181.820007</td>\n",
       "    </tr>\n",
       "    <tr>\n",
       "      <th>2023-11-08 00:00:00+00:00</th>\n",
       "      <td>182.889999</td>\n",
       "    </tr>\n",
       "    <tr>\n",
       "      <th>...</th>\n",
       "      <td>...</td>\n",
       "    </tr>\n",
       "    <tr>\n",
       "      <th>2024-10-28 00:00:00+00:00</th>\n",
       "      <td>233.399994</td>\n",
       "    </tr>\n",
       "    <tr>\n",
       "      <th>2024-10-29 00:00:00+00:00</th>\n",
       "      <td>233.669998</td>\n",
       "    </tr>\n",
       "    <tr>\n",
       "      <th>2024-10-30 00:00:00+00:00</th>\n",
       "      <td>230.100006</td>\n",
       "    </tr>\n",
       "    <tr>\n",
       "      <th>2024-10-31 00:00:00+00:00</th>\n",
       "      <td>225.910004</td>\n",
       "    </tr>\n",
       "    <tr>\n",
       "      <th>2024-11-01 00:00:00+00:00</th>\n",
       "      <td>222.910004</td>\n",
       "    </tr>\n",
       "  </tbody>\n",
       "</table>\n",
       "<p>252 rows × 1 columns</p>\n",
       "</div>"
      ],
      "text/plain": [
       "                                Close\n",
       "Date                                 \n",
       "2023-11-02 00:00:00+00:00  177.570007\n",
       "2023-11-03 00:00:00+00:00  176.649994\n",
       "2023-11-06 00:00:00+00:00  179.229996\n",
       "2023-11-07 00:00:00+00:00  181.820007\n",
       "2023-11-08 00:00:00+00:00  182.889999\n",
       "...                               ...\n",
       "2024-10-28 00:00:00+00:00  233.399994\n",
       "2024-10-29 00:00:00+00:00  233.669998\n",
       "2024-10-30 00:00:00+00:00  230.100006\n",
       "2024-10-31 00:00:00+00:00  225.910004\n",
       "2024-11-01 00:00:00+00:00  222.910004\n",
       "\n",
       "[252 rows x 1 columns]"
      ]
     },
     "execution_count": 4,
     "metadata": {},
     "output_type": "execute_result"
    }
   ],
   "source": [
    "data"
   ]
  },
  {
   "cell_type": "code",
   "execution_count": 5,
   "id": "78ebd9fd",
   "metadata": {},
   "outputs": [
    {
     "name": "stderr",
     "output_type": "stream",
     "text": [
      "C:\\Users\\atish\\AppData\\Local\\Temp\\ipykernel_31000\\3937313167.py:4: SettingWithCopyWarning: \n",
      "A value is trying to be set on a copy of a slice from a DataFrame.\n",
      "Try using .loc[row_indexer,col_indexer] = value instead\n",
      "\n",
      "See the caveats in the documentation: https://pandas.pydata.org/pandas-docs/stable/user_guide/indexing.html#returning-a-view-versus-a-copy\n",
      "  data['Close'] = scaler.fit_transform(data[['Close']])\n"
     ]
    }
   ],
   "source": [
    "# using LSTM (as it is time series data) and Linear regression\n",
    "from sklearn.preprocessing import MinMaxScaler\n",
    "scaler = MinMaxScaler(feature_range=(0,1))\n",
    "data['Close'] = scaler.fit_transform(data[['Close']])"
   ]
  },
  {
   "cell_type": "code",
   "execution_count": 6,
   "id": "a2026cba",
   "metadata": {},
   "outputs": [
    {
     "data": {
      "text/html": [
       "<div>\n",
       "<style scoped>\n",
       "    .dataframe tbody tr th:only-of-type {\n",
       "        vertical-align: middle;\n",
       "    }\n",
       "\n",
       "    .dataframe tbody tr th {\n",
       "        vertical-align: top;\n",
       "    }\n",
       "\n",
       "    .dataframe thead th {\n",
       "        text-align: right;\n",
       "    }\n",
       "</style>\n",
       "<table border=\"1\" class=\"dataframe\">\n",
       "  <thead>\n",
       "    <tr style=\"text-align: right;\">\n",
       "      <th></th>\n",
       "      <th>Close</th>\n",
       "    </tr>\n",
       "    <tr>\n",
       "      <th>Date</th>\n",
       "      <th></th>\n",
       "    </tr>\n",
       "  </thead>\n",
       "  <tbody>\n",
       "    <tr>\n",
       "      <th>2023-11-02 00:00:00+00:00</th>\n",
       "      <td>0.175853</td>\n",
       "    </tr>\n",
       "    <tr>\n",
       "      <th>2023-11-03 00:00:00+00:00</th>\n",
       "      <td>0.162983</td>\n",
       "    </tr>\n",
       "    <tr>\n",
       "      <th>2023-11-06 00:00:00+00:00</th>\n",
       "      <td>0.199077</td>\n",
       "    </tr>\n",
       "    <tr>\n",
       "      <th>2023-11-07 00:00:00+00:00</th>\n",
       "      <td>0.235311</td>\n",
       "    </tr>\n",
       "    <tr>\n",
       "      <th>2023-11-08 00:00:00+00:00</th>\n",
       "      <td>0.250280</td>\n",
       "    </tr>\n",
       "    <tr>\n",
       "      <th>...</th>\n",
       "      <td>...</td>\n",
       "    </tr>\n",
       "    <tr>\n",
       "      <th>2024-10-28 00:00:00+00:00</th>\n",
       "      <td>0.956911</td>\n",
       "    </tr>\n",
       "    <tr>\n",
       "      <th>2024-10-29 00:00:00+00:00</th>\n",
       "      <td>0.960688</td>\n",
       "    </tr>\n",
       "    <tr>\n",
       "      <th>2024-10-30 00:00:00+00:00</th>\n",
       "      <td>0.910744</td>\n",
       "    </tr>\n",
       "    <tr>\n",
       "      <th>2024-10-31 00:00:00+00:00</th>\n",
       "      <td>0.852127</td>\n",
       "    </tr>\n",
       "    <tr>\n",
       "      <th>2024-11-01 00:00:00+00:00</th>\n",
       "      <td>0.810157</td>\n",
       "    </tr>\n",
       "  </tbody>\n",
       "</table>\n",
       "<p>252 rows × 1 columns</p>\n",
       "</div>"
      ],
      "text/plain": [
       "                              Close\n",
       "Date                               \n",
       "2023-11-02 00:00:00+00:00  0.175853\n",
       "2023-11-03 00:00:00+00:00  0.162983\n",
       "2023-11-06 00:00:00+00:00  0.199077\n",
       "2023-11-07 00:00:00+00:00  0.235311\n",
       "2023-11-08 00:00:00+00:00  0.250280\n",
       "...                             ...\n",
       "2024-10-28 00:00:00+00:00  0.956911\n",
       "2024-10-29 00:00:00+00:00  0.960688\n",
       "2024-10-30 00:00:00+00:00  0.910744\n",
       "2024-10-31 00:00:00+00:00  0.852127\n",
       "2024-11-01 00:00:00+00:00  0.810157\n",
       "\n",
       "[252 rows x 1 columns]"
      ]
     },
     "execution_count": 6,
     "metadata": {},
     "output_type": "execute_result"
    }
   ],
   "source": [
    "data"
   ]
  },
  {
   "cell_type": "code",
   "execution_count": 7,
   "id": "13747276",
   "metadata": {},
   "outputs": [],
   "source": [
    "# preparign data for LSTM by creating sequences of a defined length to predict next day's price\n",
    "import numpy as np\n",
    "def create_sequences(data,seq_length=60):\n",
    "    X,y = [], []\n",
    "    for i in range(len(data) - seq_length):\n",
    "        X.append(data[i:i+seq_length])\n",
    "        y.append(data[i+seq_length])\n",
    "    return np.array(X), np.array(y)\n",
    "\n",
    "seq_length = 60\n",
    "X,y = create_sequences(data['Close'].values, seq_length)"
   ]
  },
  {
   "cell_type": "code",
   "execution_count": 8,
   "id": "bd543821",
   "metadata": {},
   "outputs": [],
   "source": [
    "# splitting the dataset\n",
    "train_size = int(len(X)*0.8)\n",
    "X_train, X_test = X[:train_size], X[train_size:]\n",
    "y_train, y_test = y[:train_size], y[train_size:]"
   ]
  },
  {
   "cell_type": "code",
   "execution_count": 32,
   "id": "c5cc58bc",
   "metadata": {},
   "outputs": [
    {
     "data": {
      "text/plain": [
       "array([0.27140452, 0.30581984, 0.29169009, 0.31729147, 0.3399553 ,\n",
       "       0.3414942 , 0.32624523, 0.33365987, 0.30987682, 0.28035806,\n",
       "       0.26790704, 0.26385005, 0.24216562, 0.23167317, 0.24230566,\n",
       "       0.27098484, 0.2451036 , 0.22607729, 0.2466425 , 0.22971459,\n",
       "       0.22034137, 0.2050924 , 0.14129836, 0.07162836, 0.05763844,\n",
       "       0.05595971, 0.08016223, 0.10842194, 0.11513705, 0.08575833,\n",
       "       0.11191942, 0.10660318, 0.12199219, 0.15500843, 0.19124229,\n",
       "       0.08911577, 0.10184666, 0.08184116, 0.06589266, 0.11625627,\n",
       "       0.09065467, 0.07036932, 0.05372127, 0.06505308, 0.05344163,\n",
       "       0.0640739 , 0.04826521, 0.06533294, 0.03889198, 0.14045878,\n",
       "       0.16158371, 0.10758258, 0.06127595, 0.04196978, 0.02853936,\n",
       "       0.        , 0.01175149, 0.02658078, 0.05623957, 0.06841074,\n",
       "       0.06015673, 0.11891439, 0.07456634, 0.06015673, 0.11233911,\n",
       "       0.25713495, 0.23377179, 0.24342466, 0.2481814 , 0.273783  ,\n",
       "       0.25251824, 0.29770565, 0.31379398, 0.34583104, 0.34750976,\n",
       "       0.34792944, 0.36429763, 0.38262462, 0.36233905, 0.30609969,\n",
       "       0.34946834, 0.34960838, 0.35380519, 0.36779512, 0.38122554,\n",
       "       0.4061276 , 0.41060447, 0.43186901, 0.41242302, 0.4461388 ,\n",
       "       0.39339671, 0.58967538, 0.67249595, 0.68886414, 0.66438176,\n",
       "       0.72285956, 0.68956346, 0.62506988, 0.59443212, 0.60352549,\n",
       "       0.61653623, 0.67501403, 0.68690555, 0.63822045, 0.72397878,\n",
       "       0.77322339, 0.79113048, 0.85814214, 0.87884738, 0.89087852,\n",
       "       0.95103525, 0.8753499 , 0.91689979, 0.97090092, 0.97677688,\n",
       "       0.89367667, 0.82792384, 0.8297426 , 0.82484625, 0.83953551,\n",
       "       0.74902066, 0.7343314 , 0.74090669, 0.74482385, 0.75265817,\n",
       "       0.79854512, 0.74650257, 0.76748746, 0.61933418, 0.5907946 ,\n",
       "       0.62702868, 0.67585339, 0.71684399, 0.73489091, 0.78721331,\n",
       "       0.79350874, 0.83547852, 0.85408515, 0.85184671, 0.8605204 ,\n",
       "       0.8589815 , 0.8328204 , 0.8651371 , 0.86989363, 0.88178515,\n",
       "       0.86024076, 0.90640735, 0.8953554 , 0.80819821, 0.78133757,\n",
       "       0.80274214, 0.78091789, 0.78217693, 0.77098495, 0.8066593 ,\n",
       "       0.80819821, 0.80442087, 0.71796321, 0.72453828, 0.77909913,\n",
       "       0.89353664, 0.88416341, 0.8599609 , 0.87255175, 0.85856182,\n",
       "       0.87465036, 0.87842749, 0.95131511, 0.85632359, 0.86429774,\n",
       "       0.84876891, 0.8645776 , 0.79308906, 0.85016799, 0.90290986,\n",
       "       0.8959149 , 0.87507004, 0.92753227, 0.96320663, 0.93424738,\n",
       "       0.93942359, 0.97929497, 1.        , 0.99132631, 0.91997759,\n",
       "       0.91731969, 0.92907118, 0.956911  , 0.96068834, 0.9107444 ,\n",
       "       0.85212657, 0.81015679])"
      ]
     },
     "execution_count": 32,
     "metadata": {},
     "output_type": "execute_result"
    }
   ],
   "source": [
    "y"
   ]
  },
  {
   "cell_type": "code",
   "execution_count": 10,
   "id": "e4669aef",
   "metadata": {},
   "outputs": [],
   "source": [
    "# building the sequential LSTM model\n",
    "from tensorflow.keras.models import Sequential\n",
    "from tensorflow.keras.layers import LSTM, Dense\n",
    "\n",
    "lstm_model = Sequential()\n",
    "lstm_model.add(LSTM(units=50, return_sequences=True, input_shape=(X_train.shape[1], 1)))\n",
    "lstm_model.add(LSTM(units=50))\n",
    "lstm_model.add(Dense(1))"
   ]
  },
  {
   "cell_type": "code",
   "execution_count": 11,
   "id": "e42f298a",
   "metadata": {},
   "outputs": [
    {
     "name": "stdout",
     "output_type": "stream",
     "text": [
      "Epoch 1/20\n",
      "5/5 [==============================] - 8s 67ms/step - loss: 0.2861\n",
      "Epoch 2/20\n",
      "5/5 [==============================] - 0s 63ms/step - loss: 0.0658\n",
      "Epoch 3/20\n",
      "5/5 [==============================] - 0s 66ms/step - loss: 0.0432\n",
      "Epoch 4/20\n",
      "5/5 [==============================] - 0s 67ms/step - loss: 0.0219\n",
      "Epoch 5/20\n",
      "5/5 [==============================] - 0s 62ms/step - loss: 0.0252\n",
      "Epoch 6/20\n",
      "5/5 [==============================] - 0s 65ms/step - loss: 0.0188\n",
      "Epoch 7/20\n",
      "5/5 [==============================] - 0s 63ms/step - loss: 0.0135\n",
      "Epoch 8/20\n",
      "5/5 [==============================] - 0s 65ms/step - loss: 0.0136\n",
      "Epoch 9/20\n",
      "5/5 [==============================] - 0s 67ms/step - loss: 0.0112\n",
      "Epoch 10/20\n",
      "5/5 [==============================] - 0s 68ms/step - loss: 0.0117\n",
      "Epoch 11/20\n",
      "5/5 [==============================] - 0s 66ms/step - loss: 0.0103\n",
      "Epoch 12/20\n",
      "5/5 [==============================] - 0s 64ms/step - loss: 0.0103\n",
      "Epoch 13/20\n",
      "5/5 [==============================] - 0s 66ms/step - loss: 0.0099\n",
      "Epoch 14/20\n",
      "5/5 [==============================] - 0s 66ms/step - loss: 0.0097\n",
      "Epoch 15/20\n",
      "5/5 [==============================] - 0s 66ms/step - loss: 0.0093\n",
      "Epoch 16/20\n",
      "5/5 [==============================] - 0s 64ms/step - loss: 0.0092\n",
      "Epoch 17/20\n",
      "5/5 [==============================] - 0s 64ms/step - loss: 0.0089\n",
      "Epoch 18/20\n",
      "5/5 [==============================] - 0s 68ms/step - loss: 0.0087\n",
      "Epoch 19/20\n",
      "5/5 [==============================] - 0s 65ms/step - loss: 0.0086\n",
      "Epoch 20/20\n",
      "5/5 [==============================] - 0s 68ms/step - loss: 0.0085\n"
     ]
    },
    {
     "data": {
      "text/plain": [
       "<keras.src.callbacks.History at 0x1b33ad5ccd0>"
      ]
     },
     "execution_count": 11,
     "metadata": {},
     "output_type": "execute_result"
    }
   ],
   "source": [
    "#compiling model\n",
    "lstm_model.compile(optimizer='adam', loss='mean_squared_error')\n",
    "lstm_model.fit(X_train,y_train,epochs=20, batch_size = 32)"
   ]
  },
  {
   "cell_type": "code",
   "execution_count": 12,
   "id": "4b11b69b",
   "metadata": {},
   "outputs": [
    {
     "name": "stderr",
     "output_type": "stream",
     "text": [
      "C:\\Users\\atish\\AppData\\Local\\Temp\\ipykernel_31000\\699401424.py:2: SettingWithCopyWarning: \n",
      "A value is trying to be set on a copy of a slice from a DataFrame.\n",
      "Try using .loc[row_indexer,col_indexer] = value instead\n",
      "\n",
      "See the caveats in the documentation: https://pandas.pydata.org/pandas-docs/stable/user_guide/indexing.html#returning-a-view-versus-a-copy\n",
      "  data['Lag_1']=data['Close'].shift(1) # t-1\n",
      "C:\\Users\\atish\\AppData\\Local\\Temp\\ipykernel_31000\\699401424.py:3: SettingWithCopyWarning: \n",
      "A value is trying to be set on a copy of a slice from a DataFrame.\n",
      "Try using .loc[row_indexer,col_indexer] = value instead\n",
      "\n",
      "See the caveats in the documentation: https://pandas.pydata.org/pandas-docs/stable/user_guide/indexing.html#returning-a-view-versus-a-copy\n",
      "  data['Lag_2']=data['Close'].shift(2) # t-2\n",
      "C:\\Users\\atish\\AppData\\Local\\Temp\\ipykernel_31000\\699401424.py:4: SettingWithCopyWarning: \n",
      "A value is trying to be set on a copy of a slice from a DataFrame.\n",
      "Try using .loc[row_indexer,col_indexer] = value instead\n",
      "\n",
      "See the caveats in the documentation: https://pandas.pydata.org/pandas-docs/stable/user_guide/indexing.html#returning-a-view-versus-a-copy\n",
      "  data['Lag_3']=data['Close'].shift(3) # t-3\n"
     ]
    }
   ],
   "source": [
    "#Training second model, Linear regression (by generating lagged features)\n",
    "data['Lag_1']=data['Close'].shift(1) # t-1\n",
    "data['Lag_2']=data['Close'].shift(2) # t-2\n",
    "data['Lag_3']=data['Close'].shift(3) # t-3\n",
    "data = data.dropna() # dropping the Nan value time stamps (first 3)"
   ]
  },
  {
   "cell_type": "code",
   "execution_count": 30,
   "id": "8943ae76",
   "metadata": {},
   "outputs": [
    {
     "data": {
      "text/html": [
       "<div>\n",
       "<style scoped>\n",
       "    .dataframe tbody tr th:only-of-type {\n",
       "        vertical-align: middle;\n",
       "    }\n",
       "\n",
       "    .dataframe tbody tr th {\n",
       "        vertical-align: top;\n",
       "    }\n",
       "\n",
       "    .dataframe thead th {\n",
       "        text-align: right;\n",
       "    }\n",
       "</style>\n",
       "<table border=\"1\" class=\"dataframe\">\n",
       "  <thead>\n",
       "    <tr style=\"text-align: right;\">\n",
       "      <th></th>\n",
       "      <th>Close</th>\n",
       "      <th>Lag_1</th>\n",
       "      <th>Lag_2</th>\n",
       "      <th>Lag_3</th>\n",
       "    </tr>\n",
       "  </thead>\n",
       "  <tbody>\n",
       "    <tr>\n",
       "      <th>0</th>\n",
       "      <td>0.271405</td>\n",
       "      <td>0.322328</td>\n",
       "      <td>0.373951</td>\n",
       "      <td>0.383604</td>\n",
       "    </tr>\n",
       "    <tr>\n",
       "      <th>1</th>\n",
       "      <td>0.305820</td>\n",
       "      <td>0.271405</td>\n",
       "      <td>0.322328</td>\n",
       "      <td>0.373951</td>\n",
       "    </tr>\n",
       "    <tr>\n",
       "      <th>2</th>\n",
       "      <td>0.291690</td>\n",
       "      <td>0.305820</td>\n",
       "      <td>0.271405</td>\n",
       "      <td>0.322328</td>\n",
       "    </tr>\n",
       "    <tr>\n",
       "      <th>3</th>\n",
       "      <td>0.317291</td>\n",
       "      <td>0.291690</td>\n",
       "      <td>0.305820</td>\n",
       "      <td>0.271405</td>\n",
       "    </tr>\n",
       "    <tr>\n",
       "      <th>4</th>\n",
       "      <td>0.339955</td>\n",
       "      <td>0.317291</td>\n",
       "      <td>0.291690</td>\n",
       "      <td>0.305820</td>\n",
       "    </tr>\n",
       "    <tr>\n",
       "      <th>...</th>\n",
       "      <td>...</td>\n",
       "      <td>...</td>\n",
       "      <td>...</td>\n",
       "      <td>...</td>\n",
       "    </tr>\n",
       "    <tr>\n",
       "      <th>187</th>\n",
       "      <td>0.956911</td>\n",
       "      <td>0.929071</td>\n",
       "      <td>0.917320</td>\n",
       "      <td>0.919978</td>\n",
       "    </tr>\n",
       "    <tr>\n",
       "      <th>188</th>\n",
       "      <td>0.960688</td>\n",
       "      <td>0.956911</td>\n",
       "      <td>0.929071</td>\n",
       "      <td>0.917320</td>\n",
       "    </tr>\n",
       "    <tr>\n",
       "      <th>189</th>\n",
       "      <td>0.910744</td>\n",
       "      <td>0.960688</td>\n",
       "      <td>0.956911</td>\n",
       "      <td>0.929071</td>\n",
       "    </tr>\n",
       "    <tr>\n",
       "      <th>190</th>\n",
       "      <td>0.852127</td>\n",
       "      <td>0.910744</td>\n",
       "      <td>0.960688</td>\n",
       "      <td>0.956911</td>\n",
       "    </tr>\n",
       "    <tr>\n",
       "      <th>191</th>\n",
       "      <td>0.810157</td>\n",
       "      <td>0.852127</td>\n",
       "      <td>0.910744</td>\n",
       "      <td>0.960688</td>\n",
       "    </tr>\n",
       "  </tbody>\n",
       "</table>\n",
       "<p>192 rows × 4 columns</p>\n",
       "</div>"
      ],
      "text/plain": [
       "        Close     Lag_1     Lag_2     Lag_3\n",
       "0    0.271405  0.322328  0.373951  0.383604\n",
       "1    0.305820  0.271405  0.322328  0.373951\n",
       "2    0.291690  0.305820  0.271405  0.322328\n",
       "3    0.317291  0.291690  0.305820  0.271405\n",
       "4    0.339955  0.317291  0.291690  0.305820\n",
       "..        ...       ...       ...       ...\n",
       "187  0.956911  0.929071  0.917320  0.919978\n",
       "188  0.960688  0.956911  0.929071  0.917320\n",
       "189  0.910744  0.960688  0.956911  0.929071\n",
       "190  0.852127  0.910744  0.960688  0.956911\n",
       "191  0.810157  0.852127  0.910744  0.960688\n",
       "\n",
       "[192 rows x 4 columns]"
      ]
     },
     "execution_count": 30,
     "metadata": {},
     "output_type": "execute_result"
    }
   ],
   "source": [
    "data_lin = data\n",
    "data_lin = data_lin.iloc[57:].reset_index(drop=True)\n",
    "data_lin"
   ]
  },
  {
   "cell_type": "code",
   "execution_count": 33,
   "id": "9be3efce",
   "metadata": {},
   "outputs": [],
   "source": [
    "#spilitting the dataset\n",
    "X_lin = data_lin[['Lag_1', 'Lag_2', 'Lag_3']]\n",
    "y_lin = data_lin['Close']\n",
    "X_train_lin,X_test_lin = X_lin[:train_size], X_lin[train_size:]\n",
    "y_train_lin, y_test_lin = y_lin[:train_size], y_lin[train_size:]"
   ]
  },
  {
   "cell_type": "code",
   "execution_count": 35,
   "id": "71c6c673",
   "metadata": {},
   "outputs": [
    {
     "data": {
      "text/html": [
       "<style>#sk-container-id-1 {color: black;}#sk-container-id-1 pre{padding: 0;}#sk-container-id-1 div.sk-toggleable {background-color: white;}#sk-container-id-1 label.sk-toggleable__label {cursor: pointer;display: block;width: 100%;margin-bottom: 0;padding: 0.3em;box-sizing: border-box;text-align: center;}#sk-container-id-1 label.sk-toggleable__label-arrow:before {content: \"▸\";float: left;margin-right: 0.25em;color: #696969;}#sk-container-id-1 label.sk-toggleable__label-arrow:hover:before {color: black;}#sk-container-id-1 div.sk-estimator:hover label.sk-toggleable__label-arrow:before {color: black;}#sk-container-id-1 div.sk-toggleable__content {max-height: 0;max-width: 0;overflow: hidden;text-align: left;background-color: #f0f8ff;}#sk-container-id-1 div.sk-toggleable__content pre {margin: 0.2em;color: black;border-radius: 0.25em;background-color: #f0f8ff;}#sk-container-id-1 input.sk-toggleable__control:checked~div.sk-toggleable__content {max-height: 200px;max-width: 100%;overflow: auto;}#sk-container-id-1 input.sk-toggleable__control:checked~label.sk-toggleable__label-arrow:before {content: \"▾\";}#sk-container-id-1 div.sk-estimator input.sk-toggleable__control:checked~label.sk-toggleable__label {background-color: #d4ebff;}#sk-container-id-1 div.sk-label input.sk-toggleable__control:checked~label.sk-toggleable__label {background-color: #d4ebff;}#sk-container-id-1 input.sk-hidden--visually {border: 0;clip: rect(1px 1px 1px 1px);clip: rect(1px, 1px, 1px, 1px);height: 1px;margin: -1px;overflow: hidden;padding: 0;position: absolute;width: 1px;}#sk-container-id-1 div.sk-estimator {font-family: monospace;background-color: #f0f8ff;border: 1px dotted black;border-radius: 0.25em;box-sizing: border-box;margin-bottom: 0.5em;}#sk-container-id-1 div.sk-estimator:hover {background-color: #d4ebff;}#sk-container-id-1 div.sk-parallel-item::after {content: \"\";width: 100%;border-bottom: 1px solid gray;flex-grow: 1;}#sk-container-id-1 div.sk-label:hover label.sk-toggleable__label {background-color: #d4ebff;}#sk-container-id-1 div.sk-serial::before {content: \"\";position: absolute;border-left: 1px solid gray;box-sizing: border-box;top: 0;bottom: 0;left: 50%;z-index: 0;}#sk-container-id-1 div.sk-serial {display: flex;flex-direction: column;align-items: center;background-color: white;padding-right: 0.2em;padding-left: 0.2em;position: relative;}#sk-container-id-1 div.sk-item {position: relative;z-index: 1;}#sk-container-id-1 div.sk-parallel {display: flex;align-items: stretch;justify-content: center;background-color: white;position: relative;}#sk-container-id-1 div.sk-item::before, #sk-container-id-1 div.sk-parallel-item::before {content: \"\";position: absolute;border-left: 1px solid gray;box-sizing: border-box;top: 0;bottom: 0;left: 50%;z-index: -1;}#sk-container-id-1 div.sk-parallel-item {display: flex;flex-direction: column;z-index: 1;position: relative;background-color: white;}#sk-container-id-1 div.sk-parallel-item:first-child::after {align-self: flex-end;width: 50%;}#sk-container-id-1 div.sk-parallel-item:last-child::after {align-self: flex-start;width: 50%;}#sk-container-id-1 div.sk-parallel-item:only-child::after {width: 0;}#sk-container-id-1 div.sk-dashed-wrapped {border: 1px dashed gray;margin: 0 0.4em 0.5em 0.4em;box-sizing: border-box;padding-bottom: 0.4em;background-color: white;}#sk-container-id-1 div.sk-label label {font-family: monospace;font-weight: bold;display: inline-block;line-height: 1.2em;}#sk-container-id-1 div.sk-label-container {text-align: center;}#sk-container-id-1 div.sk-container {/* jupyter's `normalize.less` sets `[hidden] { display: none; }` but bootstrap.min.css set `[hidden] { display: none !important; }` so we also need the `!important` here to be able to override the default hidden behavior on the sphinx rendered scikit-learn.org. See: https://github.com/scikit-learn/scikit-learn/issues/21755 */display: inline-block !important;position: relative;}#sk-container-id-1 div.sk-text-repr-fallback {display: none;}</style><div id=\"sk-container-id-1\" class=\"sk-top-container\"><div class=\"sk-text-repr-fallback\"><pre>LinearRegression()</pre><b>In a Jupyter environment, please rerun this cell to show the HTML representation or trust the notebook. <br />On GitHub, the HTML representation is unable to render, please try loading this page with nbviewer.org.</b></div><div class=\"sk-container\" hidden><div class=\"sk-item\"><div class=\"sk-estimator sk-toggleable\"><input class=\"sk-toggleable__control sk-hidden--visually\" id=\"sk-estimator-id-1\" type=\"checkbox\" checked><label for=\"sk-estimator-id-1\" class=\"sk-toggleable__label sk-toggleable__label-arrow\">LinearRegression</label><div class=\"sk-toggleable__content\"><pre>LinearRegression()</pre></div></div></div></div></div>"
      ],
      "text/plain": [
       "LinearRegression()"
      ]
     },
     "execution_count": 35,
     "metadata": {},
     "output_type": "execute_result"
    }
   ],
   "source": [
    "#train the model\n",
    "from sklearn.linear_model import LinearRegression\n",
    "lin_model = LinearRegression()\n",
    "lin_model.fit(X_train_lin, y_train_lin)"
   ]
  },
  {
   "cell_type": "code",
   "execution_count": 36,
   "id": "32c6ad05",
   "metadata": {},
   "outputs": [
    {
     "name": "stdout",
     "output_type": "stream",
     "text": [
      "2/2 [==============================] - 2s 13ms/step\n"
     ]
    }
   ],
   "source": [
    "# LSTM predictions\n",
    "X_test_lstm = X_test.reshape((X_test.shape[0], X_test.shape[1],1))\n",
    "lstm_predictions = lstm_model.predict(X_test_lstm)\n",
    "lstm_predictions = scaler.inverse_transform(lstm_predictions)"
   ]
  },
  {
   "cell_type": "code",
   "execution_count": 40,
   "id": "5af12e85",
   "metadata": {
    "scrolled": true
   },
   "outputs": [],
   "source": [
    "# Linear regression predictions\n",
    "lin_predictions = lin_model.predict(X_test_lin)\n",
    "lin_predictions_2d = lin_predictions.reshape(-1,1)\n",
    "lin_predictions = scaler.inverse_transform(lin_predictions_2d)"
   ]
  },
  {
   "cell_type": "code",
   "execution_count": 63,
   "id": "b1a2c346",
   "metadata": {
    "scrolled": true
   },
   "outputs": [],
   "source": [
    "# Hybrid Model\n",
    "alpha = 0.3 # tunable parameter\n",
    "beta = 0.7 # tunable parameter\n",
    "hybrid_predictions = (alpha * lstm_predictions) + (beta * lin_predictions)"
   ]
  },
  {
   "cell_type": "code",
   "execution_count": 64,
   "id": "b13ec9e3",
   "metadata": {
    "scrolled": true
   },
   "outputs": [
    {
     "name": "stdout",
     "output_type": "stream",
     "text": [
      "LSTM :  25.530041594374676 Linear_regression :  9.547688481665874 hybrid :  9.823698078081806\n"
     ]
    }
   ],
   "source": [
    "# Model Evaluation\n",
    "from sklearn.metrics import mean_squared_error\n",
    "#LSTM\n",
    "Y_test = scaler.inverse_transform(y_test.reshape(-1,1))\n",
    "LSTM_MSE = mean_squared_error(Y_test, lstm_predictions)\n",
    "Linear_reg_MSE = mean_squared_error(Y_test, lin_predictions)\n",
    "hybrid_MSE = mean_squared_error(Y_test, hybrid_predictions)\n",
    "print(\"LSTM : \",LSTM_MSE,\"Linear_regression : \",Linear_reg_MSE,\"hybrid : \",hybrid_MSE)"
   ]
  },
  {
   "cell_type": "code",
   "execution_count": 60,
   "id": "9df4a318",
   "metadata": {},
   "outputs": [
    {
     "name": "stdout",
     "output_type": "stream",
     "text": [
      "1/1 [==============================] - 0s 57ms/step\n",
      "1/1 [==============================] - 0s 51ms/step\n",
      "1/1 [==============================] - 0s 56ms/step\n",
      "1/1 [==============================] - 0s 48ms/step\n",
      "1/1 [==============================] - 0s 45ms/step\n",
      "1/1 [==============================] - 0s 48ms/step\n",
      "1/1 [==============================] - 0s 49ms/step\n",
      "1/1 [==============================] - 0s 48ms/step\n",
      "1/1 [==============================] - 0s 56ms/step\n",
      "1/1 [==============================] - 0s 56ms/step\n"
     ]
    }
   ],
   "source": [
    "# Prediction for next 10 days using LSTM\n",
    "lstm_future_predictions = []\n",
    "last_sequence = X[-1].reshape(1, seq_length, 1)\n",
    "for _ in range(10):\n",
    "    lstm_pred = lstm_model.predict(last_sequence)[0, 0]\n",
    "    lstm_future_predictions.append(lstm_pred)\n",
    "    lstm_pred_reshaped = np.array([[lstm_pred]]).reshape(1, 1, 1)\n",
    "    last_sequence = np.append(last_sequence[:, 1:, :], lstm_pred_reshaped, axis=1)\n",
    "lstm_future_predictions = scaler.inverse_transform(np.array(lstm_future_predictions).reshape(-1, 1))"
   ]
  },
  {
   "cell_type": "code",
   "execution_count": 61,
   "id": "fa28ee2d",
   "metadata": {},
   "outputs": [
    {
     "name": "stderr",
     "output_type": "stream",
     "text": [
      "C:\\Users\\atish\\anaconda3\\Lib\\site-packages\\sklearn\\base.py:464: UserWarning: X does not have valid feature names, but LinearRegression was fitted with feature names\n",
      "  warnings.warn(\n",
      "C:\\Users\\atish\\anaconda3\\Lib\\site-packages\\sklearn\\base.py:464: UserWarning: X does not have valid feature names, but LinearRegression was fitted with feature names\n",
      "  warnings.warn(\n",
      "C:\\Users\\atish\\anaconda3\\Lib\\site-packages\\sklearn\\base.py:464: UserWarning: X does not have valid feature names, but LinearRegression was fitted with feature names\n",
      "  warnings.warn(\n",
      "C:\\Users\\atish\\anaconda3\\Lib\\site-packages\\sklearn\\base.py:464: UserWarning: X does not have valid feature names, but LinearRegression was fitted with feature names\n",
      "  warnings.warn(\n",
      "C:\\Users\\atish\\anaconda3\\Lib\\site-packages\\sklearn\\base.py:464: UserWarning: X does not have valid feature names, but LinearRegression was fitted with feature names\n",
      "  warnings.warn(\n",
      "C:\\Users\\atish\\anaconda3\\Lib\\site-packages\\sklearn\\base.py:464: UserWarning: X does not have valid feature names, but LinearRegression was fitted with feature names\n",
      "  warnings.warn(\n",
      "C:\\Users\\atish\\anaconda3\\Lib\\site-packages\\sklearn\\base.py:464: UserWarning: X does not have valid feature names, but LinearRegression was fitted with feature names\n",
      "  warnings.warn(\n",
      "C:\\Users\\atish\\anaconda3\\Lib\\site-packages\\sklearn\\base.py:464: UserWarning: X does not have valid feature names, but LinearRegression was fitted with feature names\n",
      "  warnings.warn(\n",
      "C:\\Users\\atish\\anaconda3\\Lib\\site-packages\\sklearn\\base.py:464: UserWarning: X does not have valid feature names, but LinearRegression was fitted with feature names\n",
      "  warnings.warn(\n",
      "C:\\Users\\atish\\anaconda3\\Lib\\site-packages\\sklearn\\base.py:464: UserWarning: X does not have valid feature names, but LinearRegression was fitted with feature names\n",
      "  warnings.warn(\n"
     ]
    }
   ],
   "source": [
    "# Prediction for next 10 days using Linear regression\n",
    "recent_data = data['Close'].values[-3:] # last three values \n",
    "lin_future_predictions = []\n",
    "for _ in range(10):\n",
    "    lin_pred = lin_model.predict(recent_data.reshape(1, -1))[0]\n",
    "    lin_future_predictions.append(lin_pred)\n",
    "    recent_data = np.append(recent_data[1:], lin_pred)\n",
    "lin_future_predictions = scaler.inverse_transform(np.array(lin_future_predictions).reshape(-1, 1))"
   ]
  },
  {
   "cell_type": "code",
   "execution_count": 67,
   "id": "776dedba",
   "metadata": {},
   "outputs": [],
   "source": [
    "# Prediction for next 10 days using Hybrid model\n",
    "hybrid_future_predictions = (alpha * lstm_future_predictions) + (beta * lin_future_predictions)"
   ]
  },
  {
   "cell_type": "code",
   "execution_count": 68,
   "id": "4cda3810",
   "metadata": {},
   "outputs": [
    {
     "name": "stdout",
     "output_type": "stream",
     "text": [
      "                       Date  LSTM Predictions  Linear Regression Predictions  \\\n",
      "0 2024-11-02 00:00:00+00:00        230.934555                     230.325696   \n",
      "1 2024-11-03 00:00:00+00:00        230.635498                     226.210016   \n",
      "2 2024-11-04 00:00:00+00:00        230.319412                     222.403088   \n",
      "3 2024-11-05 00:00:00+00:00        229.994141                     230.535283   \n",
      "4 2024-11-06 00:00:00+00:00        229.663406                     226.569972   \n",
      "5 2024-11-07 00:00:00+00:00        229.329391                     221.853999   \n",
      "6 2024-11-08 00:00:00+00:00        228.992996                     230.722622   \n",
      "7 2024-11-09 00:00:00+00:00        228.654785                     226.996460   \n",
      "8 2024-11-10 00:00:00+00:00        228.315002                     221.262765   \n",
      "9 2024-11-11 00:00:00+00:00        227.973740                     230.880689   \n",
      "\n",
      "   Hybrid Model Predictions  \n",
      "0                230.508360  \n",
      "1                227.537662  \n",
      "2                224.777987  \n",
      "3                230.372944  \n",
      "4                227.498005  \n",
      "5                224.096619  \n",
      "6                230.203735  \n",
      "7                227.493957  \n",
      "8                223.378442  \n",
      "9                230.008610  \n"
     ]
    }
   ],
   "source": [
    "#Final dataframe to look at prediction\n",
    "future_dates = pd.date_range(start=data.index[-1] + pd.Timedelta(days=1), periods=10)\n",
    "predictions_df = pd.DataFrame({\n",
    "    'Date': future_dates,\n",
    "    'LSTM Predictions': lstm_future_predictions.flatten(),\n",
    "    'Linear Regression Predictions': lin_future_predictions.flatten(),\n",
    "    'Hybrid Model Predictions': hybrid_future_predictions.flatten()\n",
    "})\n",
    "print(predictions_df)"
   ]
  },
  {
   "cell_type": "code",
   "execution_count": null,
   "id": "e89d0d0f",
   "metadata": {},
   "outputs": [],
   "source": []
  }
 ],
 "metadata": {
  "kernelspec": {
   "display_name": "Python 3 (ipykernel)",
   "language": "python",
   "name": "python3"
  },
  "language_info": {
   "codemirror_mode": {
    "name": "ipython",
    "version": 3
   },
   "file_extension": ".py",
   "mimetype": "text/x-python",
   "name": "python",
   "nbconvert_exporter": "python",
   "pygments_lexer": "ipython3",
   "version": "3.11.5"
  }
 },
 "nbformat": 4,
 "nbformat_minor": 5
}
